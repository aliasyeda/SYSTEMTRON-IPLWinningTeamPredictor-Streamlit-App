{
 "cells": [
  {
   "cell_type": "code",
   "execution_count": 41,
   "id": "64dbe19e-b6f0-4323-9d41-020e9da7dfcb",
   "metadata": {},
   "outputs": [],
   "source": [
    "import pandas as pd\n",
    "import numpy as np\n",
    "from sklearn.preprocessing import LabelEncoder\n",
    "from sklearn.ensemble import RandomForestClassifier\n",
    "import pickle\n",
    "\n",
    "# Load your datasets\n",
    "matches = pd.read_csv(\"iplDatasets/matches.csv\")\n",
    "deliveries = pd.read_csv(\"iplDatasets/deliveries.csv\")\n",
    "\n",
    "# Basic preprocessing\n",
    "matches = matches.dropna(subset=['winner'])\n",
    "\n",
    "# Encode team1, team2, and winner\n",
    "le_team = LabelEncoder()\n",
    "le_winner = LabelEncoder()\n",
    "\n",
    "matches['team1_enc'] = le_team.fit_transform(matches['team1'])\n",
    "matches['team2_enc'] = le_team.transform(matches['team2'])\n",
    "matches['winner_enc'] = le_winner.fit_transform(matches['winner'])\n",
    "\n",
    "# Calculate team average scores from deliveries.csv\n",
    "team_avg_scores = deliveries.groupby('batting_team')['total_runs'].mean().reset_index()\n",
    "team_avg_scores.columns = ['team', 'avg_score']\n",
    "\n",
    "# Merge average scores for team1 and team2\n",
    "matches = matches.merge(team_avg_scores, left_on='team1', right_on='team', how='left')\n",
    "matches.rename(columns={'avg_score': 'team1_avg'}, inplace=True)\n",
    "matches.drop('team', axis=1, inplace=True)\n",
    "\n",
    "matches = matches.merge(team_avg_scores, left_on='team2', right_on='team', how='left')\n",
    "matches.rename(columns={'avg_score': 'team2_avg'}, inplace=True)\n",
    "matches.drop('team', axis=1, inplace=True)\n",
    "\n",
    "# Final training data\n",
    "X = matches[['team1_enc', 'team2_enc', 'team1_avg', 'team2_avg']]\n",
    "y = matches['winner_enc']\n",
    "\n",
    "# Train model\n",
    "model = RandomForestClassifier()\n",
    "model.fit(X, y)\n",
    "\n",
    "# Save model\n",
    "with open('ipl_model.pkl', 'wb') as f:\n",
    "    pickle.dump(model, f)\n",
    "\n",
    "# Save encoders\n",
    "with open('encoders.pkl', 'wb') as f:\n",
    "    pickle.dump((le_team, le_winner), f)\n"
   ]
  },
  {
   "cell_type": "code",
   "execution_count": null,
   "id": "5ddd6492-c8e1-48bc-b0a7-943e4540c3ed",
   "metadata": {},
   "outputs": [],
   "source": []
  }
 ],
 "metadata": {
  "kernelspec": {
   "display_name": "Python 3 (ipykernel)",
   "language": "python",
   "name": "python3"
  },
  "language_info": {
   "codemirror_mode": {
    "name": "ipython",
    "version": 3
   },
   "file_extension": ".py",
   "mimetype": "text/x-python",
   "name": "python",
   "nbconvert_exporter": "python",
   "pygments_lexer": "ipython3",
   "version": "3.12.4"
  }
 },
 "nbformat": 4,
 "nbformat_minor": 5
}
